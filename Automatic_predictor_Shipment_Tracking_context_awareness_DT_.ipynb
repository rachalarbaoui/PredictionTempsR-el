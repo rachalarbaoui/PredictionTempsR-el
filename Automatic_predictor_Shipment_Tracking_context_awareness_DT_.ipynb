{
  "nbformat": 4,
  "nbformat_minor": 0,
  "metadata": {
    "colab": {
      "name": "Automatic predictor Shipment Tracking context awareness DT .ipynb",
      "provenance": [],
      "collapsed_sections": []
    },
    "kernelspec": {
      "name": "python3",
      "display_name": "Python 3"
    },
    "language_info": {
      "name": "python"
    }
  },
  "cells": [
    {
      "cell_type": "code",
      "metadata": {
        "id": "5F6DslyYZzFo"
      },
      "source": [
        "import pandas as pd\n",
        "from sklearn.tree import DecisionTreeClassifier\n",
        "import pickle\n",
        "from sklearn.preprocessing import LabelEncoder\n",
        "from sklearn.utils import resample"
      ],
      "execution_count": null,
      "outputs": []
    },
    {
      "cell_type": "code",
      "metadata": {
        "colab": {
          "base_uri": "https://localhost:8080/"
        },
        "id": "-TfkRijwaUxN",
        "outputId": "9d209968-2647-47a5-93de-e0622bed8bbf"
      },
      "source": [
        "from google.colab import drive\n",
        "drive.mount('/content/Drive')"
      ],
      "execution_count": null,
      "outputs": [
        {
          "output_type": "stream",
          "text": [
            "Mounted at /content/Drive\n"
          ],
          "name": "stdout"
        }
      ]
    },
    {
      "cell_type": "markdown",
      "metadata": {
        "id": "POMBkMOamWgW"
      },
      "source": [
        "Dans ce détecteur automatique, nous essaierons d'automatiser le processus de classification.\n",
        "après les expériences précédentes, nous avons vu que la précision des modèles de perception du contexte dépasse le modèle général où le prix est compris entre 96 et 200 ([96,200]) mais la précision générale du modèle l'emporte lorsque le prix est compris entre 200 et 310 ([201,310]).\n",
        "***\n",
        "après cela, dans les expériences, nous avons tenté de combiner les deux premiers modèles de contexte avec le modèle général, mais la précision du modèle général était trop faible (68,08%) dans la catégorie de prix [201,310], nous avons donc essayé de diviser le jeu de données différemment.\n",
        "***\n",
        "et pour cela, nous avons créé une combinaison des trois premiers modèles d'approche de la prise de conscience du contexte et du modèle général et classer par l'un des modèles en fonction du coût du produit.\n",
        "***\n",
        "la deuxième division était la suivante:\n",
        "1. coût du produit [96,150]: modèle de prise de conscience du contexte 1.\n",
        "2. coût du produit [151 200]: modèle de prise de conscience du contexte 2.\n",
        "3. coût du produit [201 250]: modèle de prise de conscience du contexte 3.\n",
        "4. coût du produit [251,310]: modèle général.\n",
        "***\n",
        "La deuxième division nous a apporté de bonnes améliorations de précision, elle a surpassé le modèle général (de 73 à 75).\n",
        "***\n",
        "\n",
        "Les étapes pour créer une combinaison des modèles mentionnés ci-dessus sont les suivantes:\n",
        "1. importer les quatre modèles et le jeu de données + prétraiter le jeu de données pour correspondre aux modèles.\n",
        "2. choisissez au hasard une ligne à partir de celui-ci (au lieu de saisir les données manuellement)\n",
        "3. Supprimez la colonne Reached On Time et extrayez le prix du produit de la ligne.\n",
        "4. classer le produit dans l'un des modèles selon son prix.\n",
        "5. imprimer si le produit est arrivé à temps ou non."
      ]
    },
    {
      "cell_type": "markdown",
      "metadata": {
        "id": "WMzd_NrjtMcJ"
      },
      "source": [
        "#1.  Importer les quatre modèles et le jeu de données + prétraiter le jeu de données pour qu'il corresponde aux modèles."
      ]
    },
    {
      "cell_type": "code",
      "metadata": {
        "id": "qn2NvaHDW3gQ"
      },
      "source": [
        "CA_model1=pickle.load(open('/content/Drive/MyDrive/context awareness models/Shipment tracking models/DT/model 1 optimized acc_76_851.sav', 'rb'))\n",
        "CA_model2=pickle.load(open('/content/Drive/MyDrive/context awareness models/Shipment tracking models/DT/model 2 optimized acc_75_219.sav', 'rb'))\n",
        "CA_model3=pickle.load(open('/content/Drive/MyDrive/context awareness models/Shipment tracking models/DT/model 3 optimized acc_71_814.sav', 'rb'))\n",
        "G_model=pickle.load(open('/content/Drive/MyDrive/e-comerce model/model3_DecisionTree_ecommerce_73-93.sav', 'rb'))"
      ],
      "execution_count": null,
      "outputs": []
    },
    {
      "cell_type": "code",
      "metadata": {
        "id": "V_q8vRmwaYVm"
      },
      "source": [
        "df = pd.read_csv(\"/content/Drive/MyDrive/context awareness datasets/shipment tracking dataset/data.csv\")\n"
      ],
      "execution_count": null,
      "outputs": []
    },
    {
      "cell_type": "code",
      "metadata": {
        "id": "xw22YwTzaY-K"
      },
      "source": [
        "df.drop(['ID'], axis=1, inplace=True)\n",
        "\n",
        "##############################################################################################################\n",
        "\n",
        "df_reached = df[df['Reached.on.Time_Y.N'] == 0]\n",
        "df_not_reached = df[df['Reached.on.Time_Y.N'] == 1]\n",
        "\n",
        "###############################################################################################################\n",
        "\n",
        "df_reached_downsampled = resample(df_reached,replace=False,n_samples=4000,random_state=25) \n",
        "df_not_reached_downsampled = resample(df_not_reached,replace=False,n_samples=4000,random_state=25) \n",
        "df_downsampled = pd.concat([df_not_reached_downsampled,df_reached_downsampled])\n",
        "\n",
        "###############################################################################################################\n",
        "\n",
        "df_downsampled.Product_importance[df_downsampled.Product_importance == 'low'] = 1\n",
        "df_downsampled.Product_importance[df_downsampled.Product_importance == 'medium'] = 2\n",
        "df_downsampled.Product_importance[df_downsampled.Product_importance == 'high'] = 3\n",
        "\n",
        "df_downsampled.Gender[df_downsampled.Gender == 'F'] = 0\n",
        "df_downsampled.Gender[df_downsampled.Gender == 'M'] = 1\n",
        "\n",
        "###############################################################################################################\n",
        "\n",
        "df_encoded=pd.get_dummies(df_downsampled,columns=['Warehouse_block','Mode_of_Shipment'])"
      ],
      "execution_count": null,
      "outputs": []
    },
    {
      "cell_type": "code",
      "metadata": {
        "colab": {
          "base_uri": "https://localhost:8080/",
          "height": 224
        },
        "id": "EfaubsrkKZ2R",
        "outputId": "f82d6a12-9e2a-418b-ed84-a0206cbe3be5"
      },
      "source": [
        "df_encoded.head()"
      ],
      "execution_count": null,
      "outputs": [
        {
          "output_type": "execute_result",
          "data": {
            "text/html": [
              "<div>\n",
              "<style scoped>\n",
              "    .dataframe tbody tr th:only-of-type {\n",
              "        vertical-align: middle;\n",
              "    }\n",
              "\n",
              "    .dataframe tbody tr th {\n",
              "        vertical-align: top;\n",
              "    }\n",
              "\n",
              "    .dataframe thead th {\n",
              "        text-align: right;\n",
              "    }\n",
              "</style>\n",
              "<table border=\"1\" class=\"dataframe\">\n",
              "  <thead>\n",
              "    <tr style=\"text-align: right;\">\n",
              "      <th></th>\n",
              "      <th>Customer_care_calls</th>\n",
              "      <th>Customer_rating</th>\n",
              "      <th>Cost_of_the_Product</th>\n",
              "      <th>Prior_purchases</th>\n",
              "      <th>Product_importance</th>\n",
              "      <th>Gender</th>\n",
              "      <th>Discount_offered</th>\n",
              "      <th>Weight_in_gms</th>\n",
              "      <th>Reached.on.Time_Y.N</th>\n",
              "      <th>Warehouse_block_A</th>\n",
              "      <th>Warehouse_block_B</th>\n",
              "      <th>Warehouse_block_C</th>\n",
              "      <th>Warehouse_block_D</th>\n",
              "      <th>Warehouse_block_F</th>\n",
              "      <th>Mode_of_Shipment_Flight</th>\n",
              "      <th>Mode_of_Shipment_Road</th>\n",
              "      <th>Mode_of_Shipment_Ship</th>\n",
              "    </tr>\n",
              "  </thead>\n",
              "  <tbody>\n",
              "    <tr>\n",
              "      <th>2554</th>\n",
              "      <td>5</td>\n",
              "      <td>5</td>\n",
              "      <td>264</td>\n",
              "      <td>3</td>\n",
              "      <td>2</td>\n",
              "      <td>0</td>\n",
              "      <td>23</td>\n",
              "      <td>2837</td>\n",
              "      <td>1</td>\n",
              "      <td>0</td>\n",
              "      <td>0</td>\n",
              "      <td>1</td>\n",
              "      <td>0</td>\n",
              "      <td>0</td>\n",
              "      <td>0</td>\n",
              "      <td>0</td>\n",
              "      <td>1</td>\n",
              "    </tr>\n",
              "    <tr>\n",
              "      <th>2529</th>\n",
              "      <td>2</td>\n",
              "      <td>1</td>\n",
              "      <td>255</td>\n",
              "      <td>3</td>\n",
              "      <td>1</td>\n",
              "      <td>1</td>\n",
              "      <td>19</td>\n",
              "      <td>1551</td>\n",
              "      <td>1</td>\n",
              "      <td>0</td>\n",
              "      <td>1</td>\n",
              "      <td>0</td>\n",
              "      <td>0</td>\n",
              "      <td>0</td>\n",
              "      <td>0</td>\n",
              "      <td>0</td>\n",
              "      <td>1</td>\n",
              "    </tr>\n",
              "    <tr>\n",
              "      <th>1073</th>\n",
              "      <td>3</td>\n",
              "      <td>1</td>\n",
              "      <td>148</td>\n",
              "      <td>2</td>\n",
              "      <td>2</td>\n",
              "      <td>1</td>\n",
              "      <td>34</td>\n",
              "      <td>1053</td>\n",
              "      <td>1</td>\n",
              "      <td>0</td>\n",
              "      <td>0</td>\n",
              "      <td>0</td>\n",
              "      <td>0</td>\n",
              "      <td>1</td>\n",
              "      <td>0</td>\n",
              "      <td>1</td>\n",
              "      <td>0</td>\n",
              "    </tr>\n",
              "    <tr>\n",
              "      <th>9432</th>\n",
              "      <td>6</td>\n",
              "      <td>3</td>\n",
              "      <td>271</td>\n",
              "      <td>4</td>\n",
              "      <td>1</td>\n",
              "      <td>0</td>\n",
              "      <td>2</td>\n",
              "      <td>1364</td>\n",
              "      <td>1</td>\n",
              "      <td>0</td>\n",
              "      <td>0</td>\n",
              "      <td>0</td>\n",
              "      <td>1</td>\n",
              "      <td>0</td>\n",
              "      <td>0</td>\n",
              "      <td>1</td>\n",
              "      <td>0</td>\n",
              "    </tr>\n",
              "    <tr>\n",
              "      <th>2539</th>\n",
              "      <td>2</td>\n",
              "      <td>5</td>\n",
              "      <td>252</td>\n",
              "      <td>2</td>\n",
              "      <td>1</td>\n",
              "      <td>0</td>\n",
              "      <td>21</td>\n",
              "      <td>2070</td>\n",
              "      <td>1</td>\n",
              "      <td>0</td>\n",
              "      <td>0</td>\n",
              "      <td>0</td>\n",
              "      <td>0</td>\n",
              "      <td>1</td>\n",
              "      <td>0</td>\n",
              "      <td>0</td>\n",
              "      <td>1</td>\n",
              "    </tr>\n",
              "  </tbody>\n",
              "</table>\n",
              "</div>"
            ],
            "text/plain": [
              "      Customer_care_calls  ...  Mode_of_Shipment_Ship\n",
              "2554                    5  ...                      1\n",
              "2529                    2  ...                      1\n",
              "1073                    3  ...                      0\n",
              "9432                    6  ...                      0\n",
              "2539                    2  ...                      1\n",
              "\n",
              "[5 rows x 17 columns]"
            ]
          },
          "metadata": {
            "tags": []
          },
          "execution_count": 10
        }
      ]
    },
    {
      "cell_type": "markdown",
      "metadata": {
        "id": "tnJCq_B6taXx"
      },
      "source": [
        "#2. choisissez au hasard une ligne à partir de celui-ci (au lieu de saisir les données manuellement)  "
      ]
    },
    {
      "cell_type": "code",
      "metadata": {
        "colab": {
          "base_uri": "https://localhost:8080/",
          "height": 100
        },
        "id": "sBsuOkdDbGB5",
        "outputId": "bbc14771-b3df-43b8-a392-a171e4146813"
      },
      "source": [
        "data_point = df_encoded.sample()\n",
        "data_point"
      ],
      "execution_count": null,
      "outputs": [
        {
          "output_type": "execute_result",
          "data": {
            "text/html": [
              "<div>\n",
              "<style scoped>\n",
              "    .dataframe tbody tr th:only-of-type {\n",
              "        vertical-align: middle;\n",
              "    }\n",
              "\n",
              "    .dataframe tbody tr th {\n",
              "        vertical-align: top;\n",
              "    }\n",
              "\n",
              "    .dataframe thead th {\n",
              "        text-align: right;\n",
              "    }\n",
              "</style>\n",
              "<table border=\"1\" class=\"dataframe\">\n",
              "  <thead>\n",
              "    <tr style=\"text-align: right;\">\n",
              "      <th></th>\n",
              "      <th>Customer_care_calls</th>\n",
              "      <th>Customer_rating</th>\n",
              "      <th>Cost_of_the_Product</th>\n",
              "      <th>Prior_purchases</th>\n",
              "      <th>Product_importance</th>\n",
              "      <th>Gender</th>\n",
              "      <th>Discount_offered</th>\n",
              "      <th>Weight_in_gms</th>\n",
              "      <th>Reached.on.Time_Y.N</th>\n",
              "      <th>Warehouse_block_A</th>\n",
              "      <th>Warehouse_block_B</th>\n",
              "      <th>Warehouse_block_C</th>\n",
              "      <th>Warehouse_block_D</th>\n",
              "      <th>Warehouse_block_F</th>\n",
              "      <th>Mode_of_Shipment_Flight</th>\n",
              "      <th>Mode_of_Shipment_Road</th>\n",
              "      <th>Mode_of_Shipment_Ship</th>\n",
              "    </tr>\n",
              "  </thead>\n",
              "  <tbody>\n",
              "    <tr>\n",
              "      <th>2782</th>\n",
              "      <td>4</td>\n",
              "      <td>4</td>\n",
              "      <td>173</td>\n",
              "      <td>3</td>\n",
              "      <td>2</td>\n",
              "      <td>0</td>\n",
              "      <td>61</td>\n",
              "      <td>1609</td>\n",
              "      <td>1</td>\n",
              "      <td>0</td>\n",
              "      <td>0</td>\n",
              "      <td>1</td>\n",
              "      <td>0</td>\n",
              "      <td>0</td>\n",
              "      <td>0</td>\n",
              "      <td>0</td>\n",
              "      <td>1</td>\n",
              "    </tr>\n",
              "  </tbody>\n",
              "</table>\n",
              "</div>"
            ],
            "text/plain": [
              "      Customer_care_calls  ...  Mode_of_Shipment_Ship\n",
              "2782                    4  ...                      1\n",
              "\n",
              "[1 rows x 17 columns]"
            ]
          },
          "metadata": {
            "tags": []
          },
          "execution_count": 21
        }
      ]
    },
    {
      "cell_type": "markdown",
      "metadata": {
        "id": "Tx3hN_zBvSdM"
      },
      "source": [
        "#3. supprimez la colonne Reached On Time et extrayez le prix du produit de la ligne."
      ]
    },
    {
      "cell_type": "code",
      "metadata": {
        "colab": {
          "base_uri": "https://localhost:8080/",
          "height": 100
        },
        "id": "VmTIU7mBb09L",
        "outputId": "c4bda477-7c88-4ab0-efd9-2f71b08d2560"
      },
      "source": [
        "X=data_point.drop(\"Reached.on.Time_Y.N\", axis = 1)\n",
        "price=X.iloc[0]['Cost_of_the_Product']\n",
        "X"
      ],
      "execution_count": null,
      "outputs": [
        {
          "output_type": "execute_result",
          "data": {
            "text/html": [
              "<div>\n",
              "<style scoped>\n",
              "    .dataframe tbody tr th:only-of-type {\n",
              "        vertical-align: middle;\n",
              "    }\n",
              "\n",
              "    .dataframe tbody tr th {\n",
              "        vertical-align: top;\n",
              "    }\n",
              "\n",
              "    .dataframe thead th {\n",
              "        text-align: right;\n",
              "    }\n",
              "</style>\n",
              "<table border=\"1\" class=\"dataframe\">\n",
              "  <thead>\n",
              "    <tr style=\"text-align: right;\">\n",
              "      <th></th>\n",
              "      <th>Customer_care_calls</th>\n",
              "      <th>Customer_rating</th>\n",
              "      <th>Cost_of_the_Product</th>\n",
              "      <th>Prior_purchases</th>\n",
              "      <th>Product_importance</th>\n",
              "      <th>Gender</th>\n",
              "      <th>Discount_offered</th>\n",
              "      <th>Weight_in_gms</th>\n",
              "      <th>Warehouse_block_A</th>\n",
              "      <th>Warehouse_block_B</th>\n",
              "      <th>Warehouse_block_C</th>\n",
              "      <th>Warehouse_block_D</th>\n",
              "      <th>Warehouse_block_F</th>\n",
              "      <th>Mode_of_Shipment_Flight</th>\n",
              "      <th>Mode_of_Shipment_Road</th>\n",
              "      <th>Mode_of_Shipment_Ship</th>\n",
              "    </tr>\n",
              "  </thead>\n",
              "  <tbody>\n",
              "    <tr>\n",
              "      <th>2782</th>\n",
              "      <td>4</td>\n",
              "      <td>4</td>\n",
              "      <td>173</td>\n",
              "      <td>3</td>\n",
              "      <td>2</td>\n",
              "      <td>0</td>\n",
              "      <td>61</td>\n",
              "      <td>1609</td>\n",
              "      <td>0</td>\n",
              "      <td>0</td>\n",
              "      <td>1</td>\n",
              "      <td>0</td>\n",
              "      <td>0</td>\n",
              "      <td>0</td>\n",
              "      <td>0</td>\n",
              "      <td>1</td>\n",
              "    </tr>\n",
              "  </tbody>\n",
              "</table>\n",
              "</div>"
            ],
            "text/plain": [
              "      Customer_care_calls  ...  Mode_of_Shipment_Ship\n",
              "2782                    4  ...                      1\n",
              "\n",
              "[1 rows x 16 columns]"
            ]
          },
          "metadata": {
            "tags": []
          },
          "execution_count": 22
        }
      ]
    },
    {
      "cell_type": "code",
      "metadata": {
        "colab": {
          "base_uri": "https://localhost:8080/"
        },
        "id": "i9fXEWXFKzhw",
        "outputId": "183e0691-18d9-496a-8618-9dbaef15a8bd"
      },
      "source": [
        "price"
      ],
      "execution_count": null,
      "outputs": [
        {
          "output_type": "execute_result",
          "data": {
            "text/plain": [
              "173"
            ]
          },
          "metadata": {
            "tags": []
          },
          "execution_count": 23
        }
      ]
    },
    {
      "cell_type": "markdown",
      "metadata": {
        "id": "IXKE0YS3vodf"
      },
      "source": [
        "#4. classez le produit dans l'un des modèles en fonction de son prix."
      ]
    },
    {
      "cell_type": "code",
      "metadata": {
        "id": "zPT3cjp3cU5B"
      },
      "source": [
        "if (price <=150 ):\n",
        "  prediction=CA_model1.predict(X)\n",
        "elif ((price >150 ) & (price <=200)):\n",
        "  prediction=CA_model2.predict(X)\n",
        "elif ((price >200 ) & (price <=250)):\n",
        "  prediction=CA_model3.predict(X)\n",
        "elif (price >250 ):\n",
        "  prediction=G_model.predict(X)\n",
        " \n"
      ],
      "execution_count": null,
      "outputs": []
    },
    {
      "cell_type": "markdown",
      "metadata": {
        "id": "1AKeQx-0wolp"
      },
      "source": [
        "#5. imprimer si le produit est arrivé à temps ou non."
      ]
    },
    {
      "cell_type": "code",
      "metadata": {
        "colab": {
          "base_uri": "https://localhost:8080/"
        },
        "id": "NI54m90Kje5k",
        "outputId": "34e4d2f1-3776-4c74-aa8d-de06c511640d"
      },
      "source": [
        "if (prediction[0]==1) : \n",
        "  print(\"The product has NOT reached on time ✘\")\n",
        "else :\n",
        "  print (\"The product has reached on time ✔ \")"
      ],
      "execution_count": null,
      "outputs": [
        {
          "output_type": "stream",
          "text": [
            "The product has NOT reached on time ✘\n"
          ],
          "name": "stdout"
        }
      ]
    }
  ]
}